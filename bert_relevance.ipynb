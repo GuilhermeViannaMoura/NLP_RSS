{
 "cells": [
  {
   "cell_type": "markdown",
   "id": "e0b9b1bc",
   "metadata": {},
   "source": [
    "# Setup"
   ]
  },
  {
   "cell_type": "code",
   "execution_count": 1,
   "id": "a3a70e1e",
   "metadata": {},
   "outputs": [
    {
     "name": "stderr",
     "output_type": "stream",
     "text": [
      "2024-12-12 03:54:08.108412: E external/local_xla/xla/stream_executor/cuda/cuda_fft.cc:477] Unable to register cuFFT factory: Attempting to register factory for plugin cuFFT when one has already been registered\n",
      "WARNING: All log messages before absl::InitializeLog() is called are written to STDERR\n",
      "E0000 00:00:1733986448.118780   32226 cuda_dnn.cc:8310] Unable to register cuDNN factory: Attempting to register factory for plugin cuDNN when one has already been registered\n",
      "E0000 00:00:1733986448.121734   32226 cuda_blas.cc:1418] Unable to register cuBLAS factory: Attempting to register factory for plugin cuBLAS when one has already been registered\n",
      "2024-12-12 03:54:08.133203: I tensorflow/core/platform/cpu_feature_guard.cc:210] This TensorFlow binary is optimized to use available CPU instructions in performance-critical operations.\n",
      "To enable the following instructions: AVX2 FMA, in other operations, rebuild TensorFlow with the appropriate compiler flags.\n"
     ]
    }
   ],
   "source": [
    "import tensorflow as tf"
   ]
  },
  {
   "cell_type": "markdown",
   "id": "9cba157a",
   "metadata": {},
   "source": [
    "### Verificação de disponibilidade de GPUs"
   ]
  },
  {
   "cell_type": "code",
   "execution_count": 2,
   "id": "4fa4c12b",
   "metadata": {},
   "outputs": [
    {
     "name": "stdout",
     "output_type": "stream",
     "text": [
      "Default GPU Device: /device:GPU:0\n"
     ]
    },
    {
     "name": "stderr",
     "output_type": "stream",
     "text": [
      "I0000 00:00:1733986449.987403   32226 gpu_device.cc:2022] Created device /device:GPU:0 with 13689 MB memory:  -> device: 0, name: NVIDIA GeForce RTX 4060 Ti, pci bus id: 0000:07:00.0, compute capability: 8.9\n"
     ]
    }
   ],
   "source": [
    "gpu = tf.config.list_physical_devices('GPU')\n",
    "\n",
    "if gpu and tf.test.is_built_with_cuda():\n",
    "    print('Default GPU Device: {}'.format(tf.test.gpu_device_name()))\n",
    "else:\n",
    "    print(\"No GPU available.\")"
   ]
  },
  {
   "cell_type": "markdown",
   "id": "7f4cd3e2-15b6-430d-a342-38d790eaebd7",
   "metadata": {},
   "source": [
    "# Importação dos Dados"
   ]
  },
  {
   "cell_type": "code",
   "execution_count": 3,
   "id": "4d62b79f",
   "metadata": {},
   "outputs": [],
   "source": [
    "import pandas as pd"
   ]
  },
  {
   "cell_type": "markdown",
   "id": "4b936733-b121-474f-a104-63a0ce183397",
   "metadata": {},
   "source": [
    "### Importação do Dataset para um Pandas DataFrame"
   ]
  },
  {
   "cell_type": "code",
   "execution_count": 4,
   "id": "17a580f0-2b91-45c1-bbc7-02db77caaf61",
   "metadata": {
    "colab": {
     "base_uri": "https://localhost:8080/",
     "height": 449
    },
    "id": "17a580f0-2b91-45c1-bbc7-02db77caaf61",
    "outputId": "9c90cd37-7f61-460c-b0fa-429f391198d0"
   },
   "outputs": [
    {
     "data": {
      "text/html": [
       "<div>\n",
       "<style scoped>\n",
       "    .dataframe tbody tr th:only-of-type {\n",
       "        vertical-align: middle;\n",
       "    }\n",
       "\n",
       "    .dataframe tbody tr th {\n",
       "        vertical-align: top;\n",
       "    }\n",
       "\n",
       "    .dataframe thead th {\n",
       "        text-align: right;\n",
       "    }\n",
       "</style>\n",
       "<table border=\"1\" class=\"dataframe\">\n",
       "  <thead>\n",
       "    <tr style=\"text-align: right;\">\n",
       "      <th></th>\n",
       "      <th>title</th>\n",
       "      <th>link</th>\n",
       "      <th>published</th>\n",
       "      <th>retrieved_at</th>\n",
       "      <th>author</th>\n",
       "      <th>abstract</th>\n",
       "      <th>category</th>\n",
       "      <th>isRelevant</th>\n",
       "      <th>relevanceSource</th>\n",
       "      <th>classified_at</th>\n",
       "    </tr>\n",
       "  </thead>\n",
       "  <tbody>\n",
       "    <tr>\n",
       "      <th>0</th>\n",
       "      <td>Cooperative Relative Localization in MAV Swarm...</td>\n",
       "      <td>https://arxiv.org/abs/2405.18234</td>\n",
       "      <td>NaN</td>\n",
       "      <td>06/03/2024 00:00</td>\n",
       "      <td>Changrui Liu, Sven U. Pfeiffer, Guido C. H. E....</td>\n",
       "      <td>Relative localization (RL) is essential for th...</td>\n",
       "      <td>cs.RO</td>\n",
       "      <td>0.0</td>\n",
       "      <td>Manual</td>\n",
       "      <td>06/04/2024 11:19</td>\n",
       "    </tr>\n",
       "    <tr>\n",
       "      <th>1</th>\n",
       "      <td>Detection-Correction Structure via General Lan...</td>\n",
       "      <td>https://arxiv.org/abs/2405.17804</td>\n",
       "      <td>NaN</td>\n",
       "      <td>06/03/2024 00:00</td>\n",
       "      <td>Wei Li, Houfeng Wang</td>\n",
       "      <td>Grammatical error correction (GEC) is a task d...</td>\n",
       "      <td>cs.CL</td>\n",
       "      <td>0.0</td>\n",
       "      <td>Manual</td>\n",
       "      <td>06/04/2024 11:19</td>\n",
       "    </tr>\n",
       "    <tr>\n",
       "      <th>2</th>\n",
       "      <td>Average and Expected Distortion of Voronoi Pat...</td>\n",
       "      <td>https://arxiv.org/abs/2012.03350</td>\n",
       "      <td>NaN</td>\n",
       "      <td>06/03/2024 00:00</td>\n",
       "      <td>Herbert Edelsbrunner, Anton Nikitenko</td>\n",
       "      <td>The approximation of a circle with the edges o...</td>\n",
       "      <td>math.MG, math.PR</td>\n",
       "      <td>0.0</td>\n",
       "      <td>Manual</td>\n",
       "      <td>06/04/2024 11:19</td>\n",
       "    </tr>\n",
       "    <tr>\n",
       "      <th>3</th>\n",
       "      <td>Asynchronous BFT Asset Transfer: Quasi-Anonymo...</td>\n",
       "      <td>https://arxiv.org/abs/2405.18072</td>\n",
       "      <td>NaN</td>\n",
       "      <td>06/03/2024 00:00</td>\n",
       "      <td>Timoth\\'e Albouy (IRISA), Emmanuelle Anceaume ...</td>\n",
       "      <td>This article introduces a new asynchronous Byz...</td>\n",
       "      <td>cs.DC</td>\n",
       "      <td>0.0</td>\n",
       "      <td>Manual</td>\n",
       "      <td>06/04/2024 11:19</td>\n",
       "    </tr>\n",
       "    <tr>\n",
       "      <th>4</th>\n",
       "      <td>ReStorEdge: An edge computing system with reus...</td>\n",
       "      <td>https://arxiv.org/abs/2405.17263</td>\n",
       "      <td>NaN</td>\n",
       "      <td>06/03/2024 00:00</td>\n",
       "      <td>Adrian-Cristian Nicolaescu (University College...</td>\n",
       "      <td>This paper investigates an edge computing syst...</td>\n",
       "      <td>cs.ET, cs.DB, cs.DC, cs.NI</td>\n",
       "      <td>0.0</td>\n",
       "      <td>Manual</td>\n",
       "      <td>06/04/2024 11:19</td>\n",
       "    </tr>\n",
       "  </tbody>\n",
       "</table>\n",
       "</div>"
      ],
      "text/plain": [
       "                                               title  \\\n",
       "0  Cooperative Relative Localization in MAV Swarm...   \n",
       "1  Detection-Correction Structure via General Lan...   \n",
       "2  Average and Expected Distortion of Voronoi Pat...   \n",
       "3  Asynchronous BFT Asset Transfer: Quasi-Anonymo...   \n",
       "4  ReStorEdge: An edge computing system with reus...   \n",
       "\n",
       "                               link published      retrieved_at  \\\n",
       "0  https://arxiv.org/abs/2405.18234       NaN  06/03/2024 00:00   \n",
       "1  https://arxiv.org/abs/2405.17804       NaN  06/03/2024 00:00   \n",
       "2  https://arxiv.org/abs/2012.03350       NaN  06/03/2024 00:00   \n",
       "3  https://arxiv.org/abs/2405.18072       NaN  06/03/2024 00:00   \n",
       "4  https://arxiv.org/abs/2405.17263       NaN  06/03/2024 00:00   \n",
       "\n",
       "                                              author  \\\n",
       "0  Changrui Liu, Sven U. Pfeiffer, Guido C. H. E....   \n",
       "1                               Wei Li, Houfeng Wang   \n",
       "2              Herbert Edelsbrunner, Anton Nikitenko   \n",
       "3  Timoth\\'e Albouy (IRISA), Emmanuelle Anceaume ...   \n",
       "4  Adrian-Cristian Nicolaescu (University College...   \n",
       "\n",
       "                                            abstract  \\\n",
       "0  Relative localization (RL) is essential for th...   \n",
       "1  Grammatical error correction (GEC) is a task d...   \n",
       "2  The approximation of a circle with the edges o...   \n",
       "3  This article introduces a new asynchronous Byz...   \n",
       "4  This paper investigates an edge computing syst...   \n",
       "\n",
       "                     category  isRelevant relevanceSource     classified_at  \n",
       "0                       cs.RO         0.0          Manual  06/04/2024 11:19  \n",
       "1                       cs.CL         0.0          Manual  06/04/2024 11:19  \n",
       "2            math.MG, math.PR         0.0          Manual  06/04/2024 11:19  \n",
       "3                       cs.DC         0.0          Manual  06/04/2024 11:19  \n",
       "4  cs.ET, cs.DB, cs.DC, cs.NI         0.0          Manual  06/04/2024 11:19  "
      ]
     },
     "execution_count": 4,
     "metadata": {},
     "output_type": "execute_result"
    }
   ],
   "source": [
    "df_raw = pd.read_csv('./files/combined_classified.csv')\n",
    "df_raw.head()"
   ]
  },
  {
   "cell_type": "markdown",
   "id": "474c1034",
   "metadata": {},
   "source": [
    "### Cópia do DataFrame para Manipulação"
   ]
  },
  {
   "cell_type": "code",
   "execution_count": 5,
   "id": "71eec977",
   "metadata": {},
   "outputs": [],
   "source": [
    "df = df_raw.copy()"
   ]
  },
  {
   "cell_type": "markdown",
   "id": "2ac0fb7e-d9ec-43e8-b677-26dd727f5f23",
   "metadata": {
    "id": "2ac0fb7e-d9ec-43e8-b677-26dd727f5f23"
   },
   "source": [
    "# Preparando os Dados"
   ]
  },
  {
   "cell_type": "code",
   "execution_count": 6,
   "id": "f722bb2d",
   "metadata": {},
   "outputs": [],
   "source": [
    "import numpy as np\n",
    "from sklearn.model_selection import train_test_split"
   ]
  },
  {
   "cell_type": "code",
   "execution_count": 7,
   "id": "14d210d2-6268-4713-a0c8-8a9fc22c984b",
   "metadata": {
    "colab": {
     "base_uri": "https://localhost:8080/",
     "height": 536
    },
    "id": "14d210d2-6268-4713-a0c8-8a9fc22c984b",
    "outputId": "f24175d3-13aa-4453-e9b8-b95fb762e57c"
   },
   "outputs": [
    {
     "data": {
      "text/html": [
       "<div>\n",
       "<style scoped>\n",
       "    .dataframe tbody tr th:only-of-type {\n",
       "        vertical-align: middle;\n",
       "    }\n",
       "\n",
       "    .dataframe tbody tr th {\n",
       "        vertical-align: top;\n",
       "    }\n",
       "\n",
       "    .dataframe thead th {\n",
       "        text-align: right;\n",
       "    }\n",
       "</style>\n",
       "<table border=\"1\" class=\"dataframe\">\n",
       "  <thead>\n",
       "    <tr style=\"text-align: right;\">\n",
       "      <th></th>\n",
       "      <th>title</th>\n",
       "      <th>link</th>\n",
       "      <th>published</th>\n",
       "      <th>retrieved_at</th>\n",
       "      <th>author</th>\n",
       "      <th>abstract</th>\n",
       "      <th>category</th>\n",
       "      <th>isRelevant</th>\n",
       "      <th>relevanceSource</th>\n",
       "      <th>classified_at</th>\n",
       "    </tr>\n",
       "  </thead>\n",
       "  <tbody>\n",
       "    <tr>\n",
       "      <th>0</th>\n",
       "      <td>Cooperative Relative Localization in MAV Swarm...</td>\n",
       "      <td>https://arxiv.org/abs/2405.18234</td>\n",
       "      <td>NaN</td>\n",
       "      <td>06/03/2024 00:00</td>\n",
       "      <td>Changrui Liu, Sven U. Pfeiffer, Guido C. H. E....</td>\n",
       "      <td>Relative localization (RL) is essential for th...</td>\n",
       "      <td>cs.RO</td>\n",
       "      <td>0.0</td>\n",
       "      <td>Manual</td>\n",
       "      <td>06/04/2024 11:19</td>\n",
       "    </tr>\n",
       "    <tr>\n",
       "      <th>1</th>\n",
       "      <td>Detection-Correction Structure via General Lan...</td>\n",
       "      <td>https://arxiv.org/abs/2405.17804</td>\n",
       "      <td>NaN</td>\n",
       "      <td>06/03/2024 00:00</td>\n",
       "      <td>Wei Li, Houfeng Wang</td>\n",
       "      <td>Grammatical error correction (GEC) is a task d...</td>\n",
       "      <td>cs.CL</td>\n",
       "      <td>0.0</td>\n",
       "      <td>Manual</td>\n",
       "      <td>06/04/2024 11:19</td>\n",
       "    </tr>\n",
       "    <tr>\n",
       "      <th>2</th>\n",
       "      <td>Average and Expected Distortion of Voronoi Pat...</td>\n",
       "      <td>https://arxiv.org/abs/2012.03350</td>\n",
       "      <td>NaN</td>\n",
       "      <td>06/03/2024 00:00</td>\n",
       "      <td>Herbert Edelsbrunner, Anton Nikitenko</td>\n",
       "      <td>The approximation of a circle with the edges o...</td>\n",
       "      <td>math.MG, math.PR</td>\n",
       "      <td>0.0</td>\n",
       "      <td>Manual</td>\n",
       "      <td>06/04/2024 11:19</td>\n",
       "    </tr>\n",
       "    <tr>\n",
       "      <th>3</th>\n",
       "      <td>Asynchronous BFT Asset Transfer: Quasi-Anonymo...</td>\n",
       "      <td>https://arxiv.org/abs/2405.18072</td>\n",
       "      <td>NaN</td>\n",
       "      <td>06/03/2024 00:00</td>\n",
       "      <td>Timoth\\'e Albouy (IRISA), Emmanuelle Anceaume ...</td>\n",
       "      <td>This article introduces a new asynchronous Byz...</td>\n",
       "      <td>cs.DC</td>\n",
       "      <td>0.0</td>\n",
       "      <td>Manual</td>\n",
       "      <td>06/04/2024 11:19</td>\n",
       "    </tr>\n",
       "    <tr>\n",
       "      <th>4</th>\n",
       "      <td>ReStorEdge: An edge computing system with reus...</td>\n",
       "      <td>https://arxiv.org/abs/2405.17263</td>\n",
       "      <td>NaN</td>\n",
       "      <td>06/03/2024 00:00</td>\n",
       "      <td>Adrian-Cristian Nicolaescu (University College...</td>\n",
       "      <td>This paper investigates an edge computing syst...</td>\n",
       "      <td>cs.ET, cs.DB, cs.DC, cs.NI</td>\n",
       "      <td>0.0</td>\n",
       "      <td>Manual</td>\n",
       "      <td>06/04/2024 11:19</td>\n",
       "    </tr>\n",
       "  </tbody>\n",
       "</table>\n",
       "</div>"
      ],
      "text/plain": [
       "                                               title  \\\n",
       "0  Cooperative Relative Localization in MAV Swarm...   \n",
       "1  Detection-Correction Structure via General Lan...   \n",
       "2  Average and Expected Distortion of Voronoi Pat...   \n",
       "3  Asynchronous BFT Asset Transfer: Quasi-Anonymo...   \n",
       "4  ReStorEdge: An edge computing system with reus...   \n",
       "\n",
       "                               link published      retrieved_at  \\\n",
       "0  https://arxiv.org/abs/2405.18234       NaN  06/03/2024 00:00   \n",
       "1  https://arxiv.org/abs/2405.17804       NaN  06/03/2024 00:00   \n",
       "2  https://arxiv.org/abs/2012.03350       NaN  06/03/2024 00:00   \n",
       "3  https://arxiv.org/abs/2405.18072       NaN  06/03/2024 00:00   \n",
       "4  https://arxiv.org/abs/2405.17263       NaN  06/03/2024 00:00   \n",
       "\n",
       "                                              author  \\\n",
       "0  Changrui Liu, Sven U. Pfeiffer, Guido C. H. E....   \n",
       "1                               Wei Li, Houfeng Wang   \n",
       "2              Herbert Edelsbrunner, Anton Nikitenko   \n",
       "3  Timoth\\'e Albouy (IRISA), Emmanuelle Anceaume ...   \n",
       "4  Adrian-Cristian Nicolaescu (University College...   \n",
       "\n",
       "                                            abstract  \\\n",
       "0  Relative localization (RL) is essential for th...   \n",
       "1  Grammatical error correction (GEC) is a task d...   \n",
       "2  The approximation of a circle with the edges o...   \n",
       "3  This article introduces a new asynchronous Byz...   \n",
       "4  This paper investigates an edge computing syst...   \n",
       "\n",
       "                     category  isRelevant relevanceSource     classified_at  \n",
       "0                       cs.RO         0.0          Manual  06/04/2024 11:19  \n",
       "1                       cs.CL         0.0          Manual  06/04/2024 11:19  \n",
       "2            math.MG, math.PR         0.0          Manual  06/04/2024 11:19  \n",
       "3                       cs.DC         0.0          Manual  06/04/2024 11:19  \n",
       "4  cs.ET, cs.DB, cs.DC, cs.NI         0.0          Manual  06/04/2024 11:19  "
      ]
     },
     "execution_count": 7,
     "metadata": {},
     "output_type": "execute_result"
    }
   ],
   "source": [
    "df_train = df.copy()\n",
    "df_train.head()"
   ]
  },
  {
   "cell_type": "markdown",
   "id": "a931dc3e",
   "metadata": {},
   "source": [
    "### Preparando o DataFrame com o texto para o treinamento do modelo"
   ]
  },
  {
   "cell_type": "code",
   "execution_count": 8,
   "id": "a8a3ac81-8a11-4374-87ee-5f12d50f3242",
   "metadata": {
    "id": "a8a3ac81-8a11-4374-87ee-5f12d50f3242"
   },
   "outputs": [
    {
     "data": {
      "text/html": [
       "<div>\n",
       "<style scoped>\n",
       "    .dataframe tbody tr th:only-of-type {\n",
       "        vertical-align: middle;\n",
       "    }\n",
       "\n",
       "    .dataframe tbody tr th {\n",
       "        vertical-align: top;\n",
       "    }\n",
       "\n",
       "    .dataframe thead th {\n",
       "        text-align: right;\n",
       "    }\n",
       "</style>\n",
       "<table border=\"1\" class=\"dataframe\">\n",
       "  <thead>\n",
       "    <tr style=\"text-align: right;\">\n",
       "      <th></th>\n",
       "      <th>text</th>\n",
       "      <th>isRelevant</th>\n",
       "    </tr>\n",
       "  </thead>\n",
       "  <tbody>\n",
       "    <tr>\n",
       "      <th>0</th>\n",
       "      <td>title: Cooperative Relative Localization in MA...</td>\n",
       "      <td>0</td>\n",
       "    </tr>\n",
       "    <tr>\n",
       "      <th>1</th>\n",
       "      <td>title: Detection-Correction Structure via Gene...</td>\n",
       "      <td>0</td>\n",
       "    </tr>\n",
       "    <tr>\n",
       "      <th>2</th>\n",
       "      <td>title: Average and Expected Distortion of Voro...</td>\n",
       "      <td>0</td>\n",
       "    </tr>\n",
       "    <tr>\n",
       "      <th>3</th>\n",
       "      <td>title: Asynchronous BFT Asset Transfer: Quasi-...</td>\n",
       "      <td>0</td>\n",
       "    </tr>\n",
       "    <tr>\n",
       "      <th>4</th>\n",
       "      <td>title: ReStorEdge: An edge computing system wi...</td>\n",
       "      <td>0</td>\n",
       "    </tr>\n",
       "  </tbody>\n",
       "</table>\n",
       "</div>"
      ],
      "text/plain": [
       "                                                text  isRelevant\n",
       "0  title: Cooperative Relative Localization in MA...           0\n",
       "1  title: Detection-Correction Structure via Gene...           0\n",
       "2  title: Average and Expected Distortion of Voro...           0\n",
       "3  title: Asynchronous BFT Asset Transfer: Quasi-...           0\n",
       "4  title: ReStorEdge: An edge computing system wi...           0"
      ]
     },
     "execution_count": 8,
     "metadata": {},
     "output_type": "execute_result"
    }
   ],
   "source": [
    "df_train['text'] = 'title: ' + df['title'] + ' | author: ' + df['author'] + ' | abstract: ' + df['abstract']\n",
    "df_train['text'] = df_train['text'].astype(str)\n",
    "df_train['isRelevant'] = df['isRelevant'].astype(np.int64)\n",
    "\n",
    "df_train = df_train[['text', 'isRelevant']]\n",
    "df_train.head()"
   ]
  },
  {
   "cell_type": "markdown",
   "id": "95d0de1f",
   "metadata": {},
   "source": [
    "### Separando os dados em conjuntos de treinamento e validação"
   ]
  },
  {
   "cell_type": "code",
   "execution_count": 9,
   "id": "0be8ddb7-2f62-484f-9b38-1f4891fbac1c",
   "metadata": {
    "id": "0be8ddb7-2f62-484f-9b38-1f4891fbac1c"
   },
   "outputs": [],
   "source": [
    "train_texts, val_texts, train_labels, val_labels = train_test_split(\n",
    "    df_train['text'], df_train['isRelevant'], test_size=0.2\n",
    ")"
   ]
  },
  {
   "cell_type": "code",
   "execution_count": 10,
   "id": "b5032945",
   "metadata": {},
   "outputs": [],
   "source": [
    "train_texts = np.array(train_texts)\n",
    "val_texts = np.array(val_texts)\n",
    "train_labels = np.array(train_labels)\n",
    "val_labels = np.array(val_labels)"
   ]
  },
  {
   "cell_type": "markdown",
   "id": "34f39572-f52e-4199-8c10-0b85b1b38b59",
   "metadata": {
    "id": "34f39572-f52e-4199-8c10-0b85b1b38b59"
   },
   "source": [
    "# Treinamento do Modelo"
   ]
  },
  {
   "cell_type": "code",
   "execution_count": 11,
   "id": "806f24b8",
   "metadata": {},
   "outputs": [
    {
     "name": "stderr",
     "output_type": "stream",
     "text": [
      "/home/luccasabbatini/miniconda3/envs/rls-rss/lib/python3.9/site-packages/tqdm/auto.py:21: TqdmWarning: IProgress not found. Please update jupyter and ipywidgets. See https://ipywidgets.readthedocs.io/en/stable/user_install.html\n",
      "  from .autonotebook import tqdm as notebook_tqdm\n"
     ]
    }
   ],
   "source": [
    "import tensorflow as tf\n",
    "import tensorflow_hub as hub\n",
    "import tensorflow_text as text\n",
    "import keras_nlp"
   ]
  },
  {
   "cell_type": "markdown",
   "id": "57ab55c2",
   "metadata": {
    "id": "57ab55c2"
   },
   "source": [
    "### Importando BERT e BERT Preprocessor do TensorFlow Hub"
   ]
  },
  {
   "cell_type": "code",
   "execution_count": 12,
   "id": "m-oB3HXh8LwO",
   "metadata": {
    "id": "m-oB3HXh8LwO"
   },
   "outputs": [
    {
     "name": "stderr",
     "output_type": "stream",
     "text": [
      "I0000 00:00:1733986454.800565   32226 gpu_device.cc:2022] Created device /job:localhost/replica:0/task:0/device:GPU:0 with 13689 MB memory:  -> device: 0, name: NVIDIA GeForce RTX 4060 Ti, pci bus id: 0000:07:00.0, compute capability: 8.9\n"
     ]
    }
   ],
   "source": [
    "# bert_preprocess = hub.KerasLayer(\"https://tfhub.dev/tensorflow/bert_en_uncased_preprocess/3\")\n",
    "# bert_encoder = hub.KerasLayer(\"https://tfhub.dev/tensorflow/bert_en_uncased_L-12_H-768_A-12/4\")\n",
    "\n",
    "bert_preprocess = keras_nlp.models.BertPreprocessor.from_preset(\"bert_base_en_uncased\", trainable=True)\n",
    "bert_encoder = keras_nlp.models.BertBackbone.from_preset(\"bert_base_en_uncased\", trainable=True)"
   ]
  },
  {
   "cell_type": "markdown",
   "id": "65e603f5",
   "metadata": {},
   "source": [
    "### Criando as camadas do BERT"
   ]
  },
  {
   "cell_type": "code",
   "execution_count": 13,
   "id": "17890921",
   "metadata": {},
   "outputs": [],
   "source": [
    "text_input = tf.keras.layers.Input(shape=(), dtype=tf.string)\n",
    "preprocessed_text = bert_preprocess(text_input)\n",
    "outputs = bert_encoder(preprocessed_text)"
   ]
  },
  {
   "cell_type": "markdown",
   "id": "570a86bf",
   "metadata": {},
   "source": [
    "### Criando as Camadas da Rede Neural"
   ]
  },
  {
   "cell_type": "code",
   "execution_count": 14,
   "id": "H70btSPIA9Ff",
   "metadata": {
    "id": "H70btSPIA9Ff"
   },
   "outputs": [],
   "source": [
    "l = tf.keras.layers.Dropout(0.1, name=\"dropout\")(outputs['pooled_output'])\n",
    "l = tf.keras.layers.Dense(1, activation='sigmoid', name=\"output\")(l)"
   ]
  },
  {
   "cell_type": "markdown",
   "id": "b88e42bd",
   "metadata": {},
   "source": [
    "### Usando os Inputs e Outputs para Construir o Modelo Final"
   ]
  },
  {
   "cell_type": "code",
   "execution_count": 15,
   "id": "cb903e2e",
   "metadata": {},
   "outputs": [],
   "source": [
    "model = tf.keras.Model(inputs=text_input, outputs = [l], jit_compile=False)"
   ]
  },
  {
   "cell_type": "markdown",
   "id": "5f12d463",
   "metadata": {},
   "source": [
    "### Arquitetura do Modelo"
   ]
  },
  {
   "cell_type": "code",
   "execution_count": 16,
   "id": "Ed7ywcKAA_AB",
   "metadata": {
    "colab": {
     "base_uri": "https://localhost:8080/",
     "height": 374
    },
    "id": "Ed7ywcKAA_AB",
    "outputId": "bfc16486-7401-4b77-cacf-bbf9a73543eb"
   },
   "outputs": [
    {
     "data": {
      "text/html": [
       "<pre style=\"white-space:pre;overflow-x:auto;line-height:normal;font-family:Menlo,'DejaVu Sans Mono',consolas,'Courier New',monospace\"><span style=\"font-weight: bold\">Model: \"functional\"</span>\n",
       "</pre>\n"
      ],
      "text/plain": [
       "\u001b[1mModel: \"functional\"\u001b[0m\n"
      ]
     },
     "metadata": {},
     "output_type": "display_data"
    },
    {
     "data": {
      "text/html": [
       "<pre style=\"white-space:pre;overflow-x:auto;line-height:normal;font-family:Menlo,'DejaVu Sans Mono',consolas,'Courier New',monospace\">┏━━━━━━━━━━━━━━━━━━━━━┳━━━━━━━━━━━━━━━━━━━┳━━━━━━━━━━━━┳━━━━━━━━━━━━━━━━━━━┓\n",
       "┃<span style=\"font-weight: bold\"> Layer (type)        </span>┃<span style=\"font-weight: bold\"> Output Shape      </span>┃<span style=\"font-weight: bold\">    Param # </span>┃<span style=\"font-weight: bold\"> Connected to      </span>┃\n",
       "┡━━━━━━━━━━━━━━━━━━━━━╇━━━━━━━━━━━━━━━━━━━╇━━━━━━━━━━━━╇━━━━━━━━━━━━━━━━━━━┩\n",
       "│ input_layer         │ (<span style=\"color: #00d7ff; text-decoration-color: #00d7ff\">None</span>)            │          <span style=\"color: #00af00; text-decoration-color: #00af00\">0</span> │ -                 │\n",
       "│ (<span style=\"color: #0087ff; text-decoration-color: #0087ff\">InputLayer</span>)        │                   │            │                   │\n",
       "├─────────────────────┼───────────────────┼────────────┼───────────────────┤\n",
       "│ bert_text_classifi… │ [(<span style=\"color: #00d7ff; text-decoration-color: #00d7ff\">None</span>, <span style=\"color: #00af00; text-decoration-color: #00af00\">512</span>),     │          <span style=\"color: #00af00; text-decoration-color: #00af00\">0</span> │ input_layer[<span style=\"color: #00af00; text-decoration-color: #00af00\">0</span>][<span style=\"color: #00af00; text-decoration-color: #00af00\">0</span>] │\n",
       "│ (<span style=\"color: #0087ff; text-decoration-color: #0087ff\">BertTextClassifie…</span> │ (<span style=\"color: #00d7ff; text-decoration-color: #00d7ff\">None</span>, <span style=\"color: #00af00; text-decoration-color: #00af00\">512</span>),      │            │                   │\n",
       "│                     │ (<span style=\"color: #00d7ff; text-decoration-color: #00d7ff\">None</span>, <span style=\"color: #00af00; text-decoration-color: #00af00\">512</span>)]      │            │                   │\n",
       "├─────────────────────┼───────────────────┼────────────┼───────────────────┤\n",
       "│ bert_backbone       │ [(<span style=\"color: #00d7ff; text-decoration-color: #00d7ff\">None</span>, <span style=\"color: #00af00; text-decoration-color: #00af00\">768</span>),     │ <span style=\"color: #00af00; text-decoration-color: #00af00\">109,482,2…</span> │ bert_text_classi… │\n",
       "│ (<span style=\"color: #0087ff; text-decoration-color: #0087ff\">BertBackbone</span>)      │ (<span style=\"color: #00d7ff; text-decoration-color: #00d7ff\">None</span>, <span style=\"color: #00af00; text-decoration-color: #00af00\">512</span>, <span style=\"color: #00af00; text-decoration-color: #00af00\">768</span>)] │            │ bert_text_classi… │\n",
       "│                     │                   │            │ bert_text_classi… │\n",
       "├─────────────────────┼───────────────────┼────────────┼───────────────────┤\n",
       "│ dropout (<span style=\"color: #0087ff; text-decoration-color: #0087ff\">Dropout</span>)   │ (<span style=\"color: #00d7ff; text-decoration-color: #00d7ff\">None</span>, <span style=\"color: #00af00; text-decoration-color: #00af00\">768</span>)       │          <span style=\"color: #00af00; text-decoration-color: #00af00\">0</span> │ bert_backbone[<span style=\"color: #00af00; text-decoration-color: #00af00\">0</span>]… │\n",
       "├─────────────────────┼───────────────────┼────────────┼───────────────────┤\n",
       "│ output (<span style=\"color: #0087ff; text-decoration-color: #0087ff\">Dense</span>)      │ (<span style=\"color: #00d7ff; text-decoration-color: #00d7ff\">None</span>, <span style=\"color: #00af00; text-decoration-color: #00af00\">1</span>)         │        <span style=\"color: #00af00; text-decoration-color: #00af00\">769</span> │ dropout[<span style=\"color: #00af00; text-decoration-color: #00af00\">0</span>][<span style=\"color: #00af00; text-decoration-color: #00af00\">0</span>]     │\n",
       "└─────────────────────┴───────────────────┴────────────┴───────────────────┘\n",
       "</pre>\n"
      ],
      "text/plain": [
       "┏━━━━━━━━━━━━━━━━━━━━━┳━━━━━━━━━━━━━━━━━━━┳━━━━━━━━━━━━┳━━━━━━━━━━━━━━━━━━━┓\n",
       "┃\u001b[1m \u001b[0m\u001b[1mLayer (type)       \u001b[0m\u001b[1m \u001b[0m┃\u001b[1m \u001b[0m\u001b[1mOutput Shape     \u001b[0m\u001b[1m \u001b[0m┃\u001b[1m \u001b[0m\u001b[1m   Param #\u001b[0m\u001b[1m \u001b[0m┃\u001b[1m \u001b[0m\u001b[1mConnected to     \u001b[0m\u001b[1m \u001b[0m┃\n",
       "┡━━━━━━━━━━━━━━━━━━━━━╇━━━━━━━━━━━━━━━━━━━╇━━━━━━━━━━━━╇━━━━━━━━━━━━━━━━━━━┩\n",
       "│ input_layer         │ (\u001b[38;5;45mNone\u001b[0m)            │          \u001b[38;5;34m0\u001b[0m │ -                 │\n",
       "│ (\u001b[38;5;33mInputLayer\u001b[0m)        │                   │            │                   │\n",
       "├─────────────────────┼───────────────────┼────────────┼───────────────────┤\n",
       "│ bert_text_classifi… │ [(\u001b[38;5;45mNone\u001b[0m, \u001b[38;5;34m512\u001b[0m),     │          \u001b[38;5;34m0\u001b[0m │ input_layer[\u001b[38;5;34m0\u001b[0m][\u001b[38;5;34m0\u001b[0m] │\n",
       "│ (\u001b[38;5;33mBertTextClassifie…\u001b[0m │ (\u001b[38;5;45mNone\u001b[0m, \u001b[38;5;34m512\u001b[0m),      │            │                   │\n",
       "│                     │ (\u001b[38;5;45mNone\u001b[0m, \u001b[38;5;34m512\u001b[0m)]      │            │                   │\n",
       "├─────────────────────┼───────────────────┼────────────┼───────────────────┤\n",
       "│ bert_backbone       │ [(\u001b[38;5;45mNone\u001b[0m, \u001b[38;5;34m768\u001b[0m),     │ \u001b[38;5;34m109,482,2…\u001b[0m │ bert_text_classi… │\n",
       "│ (\u001b[38;5;33mBertBackbone\u001b[0m)      │ (\u001b[38;5;45mNone\u001b[0m, \u001b[38;5;34m512\u001b[0m, \u001b[38;5;34m768\u001b[0m)] │            │ bert_text_classi… │\n",
       "│                     │                   │            │ bert_text_classi… │\n",
       "├─────────────────────┼───────────────────┼────────────┼───────────────────┤\n",
       "│ dropout (\u001b[38;5;33mDropout\u001b[0m)   │ (\u001b[38;5;45mNone\u001b[0m, \u001b[38;5;34m768\u001b[0m)       │          \u001b[38;5;34m0\u001b[0m │ bert_backbone[\u001b[38;5;34m0\u001b[0m]… │\n",
       "├─────────────────────┼───────────────────┼────────────┼───────────────────┤\n",
       "│ output (\u001b[38;5;33mDense\u001b[0m)      │ (\u001b[38;5;45mNone\u001b[0m, \u001b[38;5;34m1\u001b[0m)         │        \u001b[38;5;34m769\u001b[0m │ dropout[\u001b[38;5;34m0\u001b[0m][\u001b[38;5;34m0\u001b[0m]     │\n",
       "└─────────────────────┴───────────────────┴────────────┴───────────────────┘\n"
      ]
     },
     "metadata": {},
     "output_type": "display_data"
    },
    {
     "data": {
      "text/html": [
       "<pre style=\"white-space:pre;overflow-x:auto;line-height:normal;font-family:Menlo,'DejaVu Sans Mono',consolas,'Courier New',monospace\"><span style=\"font-weight: bold\"> Total params: </span><span style=\"color: #00af00; text-decoration-color: #00af00\">109,483,009</span> (417.64 MB)\n",
       "</pre>\n"
      ],
      "text/plain": [
       "\u001b[1m Total params: \u001b[0m\u001b[38;5;34m109,483,009\u001b[0m (417.64 MB)\n"
      ]
     },
     "metadata": {},
     "output_type": "display_data"
    },
    {
     "data": {
      "text/html": [
       "<pre style=\"white-space:pre;overflow-x:auto;line-height:normal;font-family:Menlo,'DejaVu Sans Mono',consolas,'Courier New',monospace\"><span style=\"font-weight: bold\"> Trainable params: </span><span style=\"color: #00af00; text-decoration-color: #00af00\">109,483,009</span> (417.64 MB)\n",
       "</pre>\n"
      ],
      "text/plain": [
       "\u001b[1m Trainable params: \u001b[0m\u001b[38;5;34m109,483,009\u001b[0m (417.64 MB)\n"
      ]
     },
     "metadata": {},
     "output_type": "display_data"
    },
    {
     "data": {
      "text/html": [
       "<pre style=\"white-space:pre;overflow-x:auto;line-height:normal;font-family:Menlo,'DejaVu Sans Mono',consolas,'Courier New',monospace\"><span style=\"font-weight: bold\"> Non-trainable params: </span><span style=\"color: #00af00; text-decoration-color: #00af00\">0</span> (0.00 B)\n",
       "</pre>\n"
      ],
      "text/plain": [
       "\u001b[1m Non-trainable params: \u001b[0m\u001b[38;5;34m0\u001b[0m (0.00 B)\n"
      ]
     },
     "metadata": {},
     "output_type": "display_data"
    }
   ],
   "source": [
    "model.summary()"
   ]
  },
  {
   "cell_type": "markdown",
   "id": "k_szvu9BBBSP",
   "metadata": {
    "id": "k_szvu9BBBSP"
   },
   "source": [
    "# Treinando o Modelo"
   ]
  },
  {
   "cell_type": "code",
   "execution_count": 17,
   "id": "0334c0fe",
   "metadata": {},
   "outputs": [],
   "source": [
    "import os\n",
    "import tensorflow as tf\n",
    "\n",
    "os.environ['TF_GPU_ALLOCATOR'] = 'cuda_malloc_async'"
   ]
  },
  {
   "cell_type": "markdown",
   "id": "59b7fc99",
   "metadata": {},
   "source": [
    "### Definindo as Métricas"
   ]
  },
  {
   "cell_type": "code",
   "execution_count": 18,
   "id": "Om3yUDksBHNQ",
   "metadata": {
    "id": "Om3yUDksBHNQ"
   },
   "outputs": [],
   "source": [
    "METRICS = [\n",
    "      tf.keras.metrics.BinaryAccuracy(name='accuracy'),\n",
    "      tf.keras.metrics.Precision(name='precision'),\n",
    "      tf.keras.metrics.Recall(name='recall')\n",
    "]"
   ]
  },
  {
   "cell_type": "markdown",
   "id": "9b14b9d1",
   "metadata": {},
   "source": [
    "### Compilando o Modelo"
   ]
  },
  {
   "cell_type": "code",
   "execution_count": 19,
   "id": "d7ce894c",
   "metadata": {},
   "outputs": [],
   "source": [
    "model.compile(\n",
    "  optimizer='adam',\n",
    "  loss='binary_crossentropy',\n",
    "  metrics=METRICS,\n",
    "  jit_compile=False\n",
    ")"
   ]
  },
  {
   "cell_type": "markdown",
   "id": "6e436f48",
   "metadata": {},
   "source": [
    "### Treinando o Modelo"
   ]
  },
  {
   "cell_type": "code",
   "execution_count": 20,
   "id": "Lo0IWN8aBKSb",
   "metadata": {
    "colab": {
     "background_save": true
    },
    "id": "Lo0IWN8aBKSb",
    "outputId": "f4e934ac-b042-4514-8f22-a3f3ae9166f9"
   },
   "outputs": [
    {
     "name": "stdout",
     "output_type": "stream",
     "text": [
      "Epoch 1/10\n",
      "\u001b[1m4480/4480\u001b[0m \u001b[32m━━━━━━━━━━━━━━━━━━━━\u001b[0m\u001b[37m\u001b[0m \u001b[1m3225s\u001b[0m 715ms/step - accuracy: 0.8409 - loss: 0.4661 - precision: 0.1429 - recall: 0.0089\n",
      "Epoch 2/10\n",
      "\u001b[1m4480/4480\u001b[0m \u001b[32m━━━━━━━━━━━━━━━━━━━━\u001b[0m\u001b[37m\u001b[0m \u001b[1m3131s\u001b[0m 699ms/step - accuracy: 0.8402 - loss: 0.4623 - precision: 0.1199 - recall: 0.0013\n",
      "Epoch 3/10\n",
      "\u001b[1m4480/4480\u001b[0m \u001b[32m━━━━━━━━━━━━━━━━━━━━\u001b[0m\u001b[37m\u001b[0m \u001b[1m3136s\u001b[0m 700ms/step - accuracy: 0.8451 - loss: 0.4551 - precision: 0.0915 - recall: 4.3149e-04\n",
      "Epoch 4/10\n",
      "\u001b[1m4480/4480\u001b[0m \u001b[32m━━━━━━━━━━━━━━━━━━━━\u001b[0m\u001b[37m\u001b[0m \u001b[1m3138s\u001b[0m 700ms/step - accuracy: 0.8489 - loss: 0.4447 - precision: 0.0080 - recall: 1.0873e-05\n",
      "Epoch 5/10\n",
      "\u001b[1m4480/4480\u001b[0m \u001b[32m━━━━━━━━━━━━━━━━━━━━\u001b[0m\u001b[37m\u001b[0m \u001b[1m3139s\u001b[0m 701ms/step - accuracy: 0.8486 - loss: 0.4467 - precision: 0.1657 - recall: 4.4238e-04\n",
      "Epoch 6/10\n",
      "\u001b[1m4480/4480\u001b[0m \u001b[32m━━━━━━━━━━━━━━━━━━━━\u001b[0m\u001b[37m\u001b[0m \u001b[1m3137s\u001b[0m 700ms/step - accuracy: 0.8458 - loss: 0.4505 - precision: 0.1824 - recall: 0.0012\n",
      "Epoch 7/10\n",
      "\u001b[1m4480/4480\u001b[0m \u001b[32m━━━━━━━━━━━━━━━━━━━━\u001b[0m\u001b[37m\u001b[0m \u001b[1m3135s\u001b[0m 700ms/step - accuracy: 0.8485 - loss: 0.4491 - precision: 0.0000e+00 - recall: 0.0000e+00\n",
      "Epoch 8/10\n",
      "\u001b[1m4480/4480\u001b[0m \u001b[32m━━━━━━━━━━━━━━━━━━━━\u001b[0m\u001b[37m\u001b[0m \u001b[1m3169s\u001b[0m 707ms/step - accuracy: 0.8464 - loss: 0.4494 - precision: 0.3199 - recall: 1.4820e-04\n",
      "Epoch 9/10\n",
      "\u001b[1m4480/4480\u001b[0m \u001b[32m━━━━━━━━━━━━━━━━━━━━\u001b[0m\u001b[37m\u001b[0m \u001b[1m3168s\u001b[0m 707ms/step - accuracy: 0.8451 - loss: 0.4514 - precision: 0.0728 - recall: 1.9468e-04\n",
      "Epoch 10/10\n",
      "\u001b[1m4480/4480\u001b[0m \u001b[32m━━━━━━━━━━━━━━━━━━━━\u001b[0m\u001b[37m\u001b[0m \u001b[1m3167s\u001b[0m 707ms/step - accuracy: 0.8453 - loss: 0.4527 - precision: 0.1885 - recall: 3.5980e-04\n"
     ]
    },
    {
     "data": {
      "text/plain": [
       "<keras.src.callbacks.history.History at 0x7f70ced34eb0>"
      ]
     },
     "execution_count": 20,
     "metadata": {},
     "output_type": "execute_result"
    }
   ],
   "source": [
    "model.fit(train_texts, train_labels, epochs=10, verbose=1, batch_size=10)"
   ]
  },
  {
   "cell_type": "markdown",
   "id": "2612e8c6",
   "metadata": {},
   "source": [
    "### Modelo Resultante"
   ]
  },
  {
   "cell_type": "code",
   "execution_count": 29,
   "id": "8e71987b",
   "metadata": {},
   "outputs": [
    {
     "data": {
      "text/html": [
       "<pre style=\"white-space:pre;overflow-x:auto;line-height:normal;font-family:Menlo,'DejaVu Sans Mono',consolas,'Courier New',monospace\"><span style=\"font-weight: bold\">Model: \"functional\"</span>\n",
       "</pre>\n"
      ],
      "text/plain": [
       "\u001b[1mModel: \"functional\"\u001b[0m\n"
      ]
     },
     "metadata": {},
     "output_type": "display_data"
    },
    {
     "data": {
      "text/html": [
       "<pre style=\"white-space:pre;overflow-x:auto;line-height:normal;font-family:Menlo,'DejaVu Sans Mono',consolas,'Courier New',monospace\">┏━━━━━━━━━━━━━━━━━━━━━┳━━━━━━━━━━━━━━━━━━━┳━━━━━━━━━━━━┳━━━━━━━━━━━━━━━━━━━┓\n",
       "┃<span style=\"font-weight: bold\"> Layer (type)        </span>┃<span style=\"font-weight: bold\"> Output Shape      </span>┃<span style=\"font-weight: bold\">    Param # </span>┃<span style=\"font-weight: bold\"> Connected to      </span>┃\n",
       "┡━━━━━━━━━━━━━━━━━━━━━╇━━━━━━━━━━━━━━━━━━━╇━━━━━━━━━━━━╇━━━━━━━━━━━━━━━━━━━┩\n",
       "│ input_layer         │ (<span style=\"color: #00d7ff; text-decoration-color: #00d7ff\">None</span>)            │          <span style=\"color: #00af00; text-decoration-color: #00af00\">0</span> │ -                 │\n",
       "│ (<span style=\"color: #0087ff; text-decoration-color: #0087ff\">InputLayer</span>)        │                   │            │                   │\n",
       "├─────────────────────┼───────────────────┼────────────┼───────────────────┤\n",
       "│ bert_text_classifi… │ [(<span style=\"color: #00d7ff; text-decoration-color: #00d7ff\">None</span>, <span style=\"color: #00af00; text-decoration-color: #00af00\">512</span>),     │          <span style=\"color: #00af00; text-decoration-color: #00af00\">0</span> │ input_layer[<span style=\"color: #00af00; text-decoration-color: #00af00\">0</span>][<span style=\"color: #00af00; text-decoration-color: #00af00\">0</span>] │\n",
       "│ (<span style=\"color: #0087ff; text-decoration-color: #0087ff\">BertTextClassifie…</span> │ (<span style=\"color: #00d7ff; text-decoration-color: #00d7ff\">None</span>, <span style=\"color: #00af00; text-decoration-color: #00af00\">512</span>),      │            │                   │\n",
       "│                     │ (<span style=\"color: #00d7ff; text-decoration-color: #00d7ff\">None</span>, <span style=\"color: #00af00; text-decoration-color: #00af00\">512</span>)]      │            │                   │\n",
       "├─────────────────────┼───────────────────┼────────────┼───────────────────┤\n",
       "│ bert_backbone       │ [(<span style=\"color: #00d7ff; text-decoration-color: #00d7ff\">None</span>, <span style=\"color: #00af00; text-decoration-color: #00af00\">768</span>),     │ <span style=\"color: #00af00; text-decoration-color: #00af00\">109,482,2…</span> │ bert_text_classi… │\n",
       "│ (<span style=\"color: #0087ff; text-decoration-color: #0087ff\">BertBackbone</span>)      │ (<span style=\"color: #00d7ff; text-decoration-color: #00d7ff\">None</span>, <span style=\"color: #00af00; text-decoration-color: #00af00\">512</span>, <span style=\"color: #00af00; text-decoration-color: #00af00\">768</span>)] │            │ bert_text_classi… │\n",
       "│                     │                   │            │ bert_text_classi… │\n",
       "├─────────────────────┼───────────────────┼────────────┼───────────────────┤\n",
       "│ dropout (<span style=\"color: #0087ff; text-decoration-color: #0087ff\">Dropout</span>)   │ (<span style=\"color: #00d7ff; text-decoration-color: #00d7ff\">None</span>, <span style=\"color: #00af00; text-decoration-color: #00af00\">768</span>)       │          <span style=\"color: #00af00; text-decoration-color: #00af00\">0</span> │ bert_backbone[<span style=\"color: #00af00; text-decoration-color: #00af00\">0</span>]… │\n",
       "├─────────────────────┼───────────────────┼────────────┼───────────────────┤\n",
       "│ output (<span style=\"color: #0087ff; text-decoration-color: #0087ff\">Dense</span>)      │ (<span style=\"color: #00d7ff; text-decoration-color: #00d7ff\">None</span>, <span style=\"color: #00af00; text-decoration-color: #00af00\">1</span>)         │        <span style=\"color: #00af00; text-decoration-color: #00af00\">769</span> │ dropout[<span style=\"color: #00af00; text-decoration-color: #00af00\">0</span>][<span style=\"color: #00af00; text-decoration-color: #00af00\">0</span>]     │\n",
       "└─────────────────────┴───────────────────┴────────────┴───────────────────┘\n",
       "</pre>\n"
      ],
      "text/plain": [
       "┏━━━━━━━━━━━━━━━━━━━━━┳━━━━━━━━━━━━━━━━━━━┳━━━━━━━━━━━━┳━━━━━━━━━━━━━━━━━━━┓\n",
       "┃\u001b[1m \u001b[0m\u001b[1mLayer (type)       \u001b[0m\u001b[1m \u001b[0m┃\u001b[1m \u001b[0m\u001b[1mOutput Shape     \u001b[0m\u001b[1m \u001b[0m┃\u001b[1m \u001b[0m\u001b[1m   Param #\u001b[0m\u001b[1m \u001b[0m┃\u001b[1m \u001b[0m\u001b[1mConnected to     \u001b[0m\u001b[1m \u001b[0m┃\n",
       "┡━━━━━━━━━━━━━━━━━━━━━╇━━━━━━━━━━━━━━━━━━━╇━━━━━━━━━━━━╇━━━━━━━━━━━━━━━━━━━┩\n",
       "│ input_layer         │ (\u001b[38;5;45mNone\u001b[0m)            │          \u001b[38;5;34m0\u001b[0m │ -                 │\n",
       "│ (\u001b[38;5;33mInputLayer\u001b[0m)        │                   │            │                   │\n",
       "├─────────────────────┼───────────────────┼────────────┼───────────────────┤\n",
       "│ bert_text_classifi… │ [(\u001b[38;5;45mNone\u001b[0m, \u001b[38;5;34m512\u001b[0m),     │          \u001b[38;5;34m0\u001b[0m │ input_layer[\u001b[38;5;34m0\u001b[0m][\u001b[38;5;34m0\u001b[0m] │\n",
       "│ (\u001b[38;5;33mBertTextClassifie…\u001b[0m │ (\u001b[38;5;45mNone\u001b[0m, \u001b[38;5;34m512\u001b[0m),      │            │                   │\n",
       "│                     │ (\u001b[38;5;45mNone\u001b[0m, \u001b[38;5;34m512\u001b[0m)]      │            │                   │\n",
       "├─────────────────────┼───────────────────┼────────────┼───────────────────┤\n",
       "│ bert_backbone       │ [(\u001b[38;5;45mNone\u001b[0m, \u001b[38;5;34m768\u001b[0m),     │ \u001b[38;5;34m109,482,2…\u001b[0m │ bert_text_classi… │\n",
       "│ (\u001b[38;5;33mBertBackbone\u001b[0m)      │ (\u001b[38;5;45mNone\u001b[0m, \u001b[38;5;34m512\u001b[0m, \u001b[38;5;34m768\u001b[0m)] │            │ bert_text_classi… │\n",
       "│                     │                   │            │ bert_text_classi… │\n",
       "├─────────────────────┼───────────────────┼────────────┼───────────────────┤\n",
       "│ dropout (\u001b[38;5;33mDropout\u001b[0m)   │ (\u001b[38;5;45mNone\u001b[0m, \u001b[38;5;34m768\u001b[0m)       │          \u001b[38;5;34m0\u001b[0m │ bert_backbone[\u001b[38;5;34m0\u001b[0m]… │\n",
       "├─────────────────────┼───────────────────┼────────────┼───────────────────┤\n",
       "│ output (\u001b[38;5;33mDense\u001b[0m)      │ (\u001b[38;5;45mNone\u001b[0m, \u001b[38;5;34m1\u001b[0m)         │        \u001b[38;5;34m769\u001b[0m │ dropout[\u001b[38;5;34m0\u001b[0m][\u001b[38;5;34m0\u001b[0m]     │\n",
       "└─────────────────────┴───────────────────┴────────────┴───────────────────┘\n"
      ]
     },
     "metadata": {},
     "output_type": "display_data"
    },
    {
     "data": {
      "text/html": [
       "<pre style=\"white-space:pre;overflow-x:auto;line-height:normal;font-family:Menlo,'DejaVu Sans Mono',consolas,'Courier New',monospace\"><span style=\"font-weight: bold\"> Total params: </span><span style=\"color: #00af00; text-decoration-color: #00af00\">328,449,029</span> (1.22 GB)\n",
       "</pre>\n"
      ],
      "text/plain": [
       "\u001b[1m Total params: \u001b[0m\u001b[38;5;34m328,449,029\u001b[0m (1.22 GB)\n"
      ]
     },
     "metadata": {},
     "output_type": "display_data"
    },
    {
     "data": {
      "text/html": [
       "<pre style=\"white-space:pre;overflow-x:auto;line-height:normal;font-family:Menlo,'DejaVu Sans Mono',consolas,'Courier New',monospace\"><span style=\"font-weight: bold\"> Trainable params: </span><span style=\"color: #00af00; text-decoration-color: #00af00\">109,483,009</span> (417.64 MB)\n",
       "</pre>\n"
      ],
      "text/plain": [
       "\u001b[1m Trainable params: \u001b[0m\u001b[38;5;34m109,483,009\u001b[0m (417.64 MB)\n"
      ]
     },
     "metadata": {},
     "output_type": "display_data"
    },
    {
     "data": {
      "text/html": [
       "<pre style=\"white-space:pre;overflow-x:auto;line-height:normal;font-family:Menlo,'DejaVu Sans Mono',consolas,'Courier New',monospace\"><span style=\"font-weight: bold\"> Non-trainable params: </span><span style=\"color: #00af00; text-decoration-color: #00af00\">0</span> (0.00 B)\n",
       "</pre>\n"
      ],
      "text/plain": [
       "\u001b[1m Non-trainable params: \u001b[0m\u001b[38;5;34m0\u001b[0m (0.00 B)\n"
      ]
     },
     "metadata": {},
     "output_type": "display_data"
    },
    {
     "data": {
      "text/html": [
       "<pre style=\"white-space:pre;overflow-x:auto;line-height:normal;font-family:Menlo,'DejaVu Sans Mono',consolas,'Courier New',monospace\"><span style=\"font-weight: bold\"> Optimizer params: </span><span style=\"color: #00af00; text-decoration-color: #00af00\">218,966,020</span> (835.29 MB)\n",
       "</pre>\n"
      ],
      "text/plain": [
       "\u001b[1m Optimizer params: \u001b[0m\u001b[38;5;34m218,966,020\u001b[0m (835.29 MB)\n"
      ]
     },
     "metadata": {},
     "output_type": "display_data"
    }
   ],
   "source": [
    "model.summary()"
   ]
  },
  {
   "cell_type": "markdown",
   "id": "e6630da0",
   "metadata": {},
   "source": [
    "### Salvando o Modelo"
   ]
  },
  {
   "cell_type": "code",
   "execution_count": 28,
   "id": "cea171e1",
   "metadata": {},
   "outputs": [
    {
     "name": "stderr",
     "output_type": "stream",
     "text": [
      "WARNING:absl:You are saving your model as an HDF5 file via `model.save()` or `keras.saving.save_model(model)`. This file format is considered legacy. We recommend using instead the native Keras format, e.g. `model.save('my_model.keras')` or `keras.saving.save_model(model, 'my_model.keras')`. \n"
     ]
    }
   ],
   "source": [
    "model.save('./models/bert_relevance.h5')\n",
    "model.save('./models/bert_relevance.keras')"
   ]
  }
 ],
 "metadata": {
  "colab": {
   "provenance": []
  },
  "kernelspec": {
   "display_name": "rls-rss",
   "language": "python",
   "name": "python3"
  },
  "language_info": {
   "codemirror_mode": {
    "name": "ipython",
    "version": 3
   },
   "file_extension": ".py",
   "mimetype": "text/x-python",
   "name": "python",
   "nbconvert_exporter": "python",
   "pygments_lexer": "ipython3",
   "version": "3.9.21"
  }
 },
 "nbformat": 4,
 "nbformat_minor": 5
}
